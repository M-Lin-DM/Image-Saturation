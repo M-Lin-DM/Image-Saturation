{
 "cells": [
  {
   "cell_type": "code",
   "execution_count": 1,
   "id": "49a42825",
   "metadata": {},
   "outputs": [],
   "source": [
    "import numpy as np\n",
    "import matplotlib.pyplot as plt\n",
    "from pathlib import Path\n",
    "import pandas as pd\n",
    "import matplotlib.image as mpimg\n",
    "import cv2\n",
    "import copy"
   ]
  },
  {
   "cell_type": "code",
   "execution_count": 41,
   "id": "264b4495",
   "metadata": {},
   "outputs": [
    {
     "name": "stdout",
     "output_type": "stream",
     "text": [
      "C:\\Users\\MrLin\\OneDrive\\COMPLEX OBJECTS\\PROJECTS\\SATURATION\\JUPYTER NOTEBOOK\\movies\\farm\\farm.png\n"
     ]
    }
   ],
   "source": [
    "clip_name ='farm'\n",
    "clip_dir = f'C:\\\\Users\\\\MrLin\\\\OneDrive\\\\COMPLEX OBJECTS\\\\PROJECTS\\\\SATURATION\\\\JUPYTER NOTEBOOK\\\\movies\\\\{clip_name}'\n",
    "imgs_dir = f'{clip_dir}\\\\imgs'\n",
    "imgs_path = Path(imgs_dir)\n",
    "file_name = f'{clip_name}.png'\n",
    "file_path = f'{clip_dir}\\\\{file_name}'  # will list the entire path\n",
    "N_frames = 30*6+1\n",
    "save_path = f'{clip_dir}\\\\imgs'\n",
    "print(file_path)"
   ]
  },
  {
   "cell_type": "code",
   "execution_count": 3,
   "id": "5e384d2b",
   "metadata": {},
   "outputs": [],
   "source": [
    "def normalize_HLS(hls_img):\n",
    "#     img = copy.deepcopy(hls_img).astype('float')\n",
    "    img = hls_img.astype('float')\n",
    "    img[:, :, 0] = 2 * (img[:, :, 0] * np.pi/180 - np.pi / 2) # convert degrees to radians in the range [-pi, pi]\n",
    "    img[:, :, 1] = img[:, :, 1] / 255  # normalize z to [0, 1]\n",
    "    img[:, :, 2] = img[:, :, 2] / 255  # normalize radius to [0, 1]\n",
    "    \n",
    "    return img"
   ]
  },
  {
   "cell_type": "code",
   "execution_count": 4,
   "id": "28625538",
   "metadata": {},
   "outputs": [],
   "source": [
    "def extreme_saturation(hls_img, SAT):\n",
    "#     HLS_img = copy.deepcopy(hls_img).astype('float')\n",
    "    HLS_img = hls_img.astype('float')\n",
    "    if 0 <= SAT <= 1:\n",
    "        HLS_img[:, :, 2] = HLS_img[:, :, 2] * SAT\n",
    "        return HLS_img\n",
    "    elif 1 < SAT <= 3:\n",
    "        s0 = HLS_img[:, :, 2]\n",
    "        HLS_img[:, :, 2] = SAT * (1 - s0) / 2 + (3 * s0 - 1) / 2\n",
    "        return HLS_img\n",
    "    else:\n",
    "        raise ValueError(\"The value of SAT must be between 0 and 3.\")"
   ]
  },
  {
   "cell_type": "code",
   "execution_count": 5,
   "id": "c9b0faff",
   "metadata": {},
   "outputs": [],
   "source": [
    "def reverse_normalize_hls(hls_img):\n",
    "    # reverses normalizations applied in normalize_HLS()\n",
    "#     img = copy.deepcopy(hls_img).astype('float')\n",
    "    img = hls_img.astype('float')\n",
    "#     print(img.shape)\n",
    "    img[:, :, 0] = (img[:, :, 0] / 2 + np.pi / 2) * (180 / np.pi)\n",
    "    img[:, :, 1] = img[:, :, 1] * 255\n",
    "    img[:, :, 2] = img[:, :, 2] * 255\n",
    "    # prepare for conversion into RGB using cv2\n",
    "    img[:, :, 0] = np.clip(np.round(img[:, :, 0]), 0, 179)\n",
    "    img[:, :, 1:] = np.clip(np.round(img[:, :, 1:]), 0, 255)\n",
    "    \n",
    "    return img.astype('uint8')"
   ]
  },
  {
   "cell_type": "code",
   "execution_count": 79,
   "id": "e58f4f92",
   "metadata": {},
   "outputs": [],
   "source": [
    "# def color_rotation(hls_img, angle):\n",
    "#     # function that rotates colors in HLS space by angle in deg\n",
    "#     # H channel should already be in [-pi, pi]\n",
    "#     angle = angle * np.pi/180  # convert to rad\n",
    "#     HLS_img = hls_img.astype('float')\n",
    "    \n",
    "#     H = HLS_img[:, :, 0]\n",
    "#     H = H + angle\n",
    "#     H[H < -np.pi] += 2 * np.pi\n",
    "#     H[H > np.pi] -= 2 * np.pi\n",
    "#     HLS_img[:, :, 0] = H\n",
    "    \n",
    "#     return HLS_img"
   ]
  },
  {
   "cell_type": "code",
   "execution_count": 44,
   "id": "b67d3299",
   "metadata": {},
   "outputs": [],
   "source": [
    "def color_rotation_raw(hls_img, degrees):\n",
    "    # function that rotates colors in HLS space by angle in deg\n",
    "    # H channel should already be in [0, 179]\n",
    "    HLS_img = hls_img.copy()\n",
    "    H = HLS_img[:, :, 0]\n",
    "    H = np.mod(H + degrees, 180)\n",
    "    HLS_img[:, :, 0] = H\n",
    "    \n",
    "    return HLS_img"
   ]
  },
  {
   "cell_type": "code",
   "execution_count": 42,
   "id": "9cc96a01",
   "metadata": {},
   "outputs": [],
   "source": [
    "# Load image\n",
    "img = cv2.imread(str(file_path))  # shape is [1080, 1920, 4] The 4th channel is alpha\n",
    "img_RGB = cv2.cvtColor(img, cv2.COLOR_BGR2RGB)  # must convert from BGR to RGB\n",
    "img_RGB.shape\n",
    "# make HLS image\n",
    "img_HLS = cv2.cvtColor(img_RGB, cv2.COLOR_RGB2HLS)\n",
    "# img_HLS.shape\n",
    "\n",
    "# normalize HLS\n",
    "HLS_norm = normalize_HLS(img_HLS)"
   ]
  },
  {
   "cell_type": "markdown",
   "id": "e1901f88",
   "metadata": {},
   "source": [
    "## linearly increase SAT, and save image sequence"
   ]
  },
  {
   "cell_type": "code",
   "execution_count": 46,
   "id": "f1bc7b17",
   "metadata": {
    "scrolled": true
   },
   "outputs": [],
   "source": [
    "# dat_stack_RGB = np.zeros(shape=(row_indices.size, 3, N_frames))\n",
    "# dat_stack_HLS = np.zeros(shape=(row_indices.size, 3, N_frames))\n",
    "SAT_values = np.linspace(0, 3, N_frames)\n",
    "\n",
    "for t, SAT in zip(range(N_frames), SAT_values):\n",
    "    if N_frames-1 <= t < 202:\n",
    "        # apply slider value\n",
    "        transformed_img = extreme_saturation(HLS_norm, SAT)\n",
    "        transformed_img = reverse_normalize_hls(transformed_img)\n",
    "        img_RGB = cv2.cvtColor(transformed_img, cv2.COLOR_HLS2RGB)  # Try COLOR_HLS2BGR or COLOR_HLS2RGB here\n",
    "        \n",
    "        plt.imshow(img_RGB)  \n",
    "        plt.axis('off')\n",
    "\n",
    "#         # Save the image to a file\n",
    "        plt.savefig(f'{save_path}\\\\{clip_name}{t:03d}.png', bbox_inches='tight', pad_inches=0, dpi=300)  # dpi=300 this preserve the original resolution?\n",
    "        plt.close()  # execution will SLOW down without closing the fig"
   ]
  },
  {
   "cell_type": "code",
   "execution_count": 92,
   "id": "e316b044",
   "metadata": {},
   "outputs": [
    {
     "data": {
      "text/plain": [
       "179"
      ]
     },
     "execution_count": 92,
     "metadata": {},
     "output_type": "execute_result"
    }
   ],
   "source": [
    "img = cv2.imread(str(file_path))  # shape is [1080, 1920, 4] The 4th channel is alpha\n",
    "img.shape\n",
    "# make HLS image\n",
    "img_HLS = cv2.cvtColor(img, cv2.COLOR_RGB2HLS)\n",
    "np.mod(img_HLS[:, :, 0] + 30, 180)"
   ]
  },
  {
   "cell_type": "markdown",
   "id": "4bcc4ff1",
   "metadata": {},
   "source": [
    "## Rotate color"
   ]
  },
  {
   "cell_type": "code",
   "execution_count": 45,
   "id": "76d1f66f",
   "metadata": {},
   "outputs": [],
   "source": [
    "# dat_stack_RGB = np.zeros(shape=(row_indices.size, 3, N_frames))\n",
    "# dat_stack_HLS = np.zeros(shape=(row_indices.size, 3, N_frames))\n",
    "# rot_angle_values = np.linspace(0, N_frames-1, N_frames)  # this format may prevent \"jumpy\" motion in the rotation plot\n",
    "rot_angle_values = np.linspace(0, 180, N_frames)\n",
    "\n",
    "for t, theta in zip(range(N_frames), rot_angle_values):\n",
    "    if 0 <= t < 202:\n",
    "        # apply slider value\n",
    "        transformed_img = color_rotation_raw(img_HLS, theta)\n",
    "        img_RGB = cv2.cvtColor(transformed_img, cv2.COLOR_HLS2RGB)\n",
    "        \n",
    "        plt.imshow(img_RGB)  \n",
    "        plt.axis('off')\n",
    "\n",
    "#         # Save the image to a file\n",
    "        plt.savefig(f'{save_path}\\\\{clip_name}{t:03d}.png', bbox_inches='tight', pad_inches=0, dpi=300)\n",
    "        plt.close()  # execution will SLOW down without closing the fig"
   ]
  },
  {
   "cell_type": "code",
   "execution_count": 114,
   "id": "a97321e0",
   "metadata": {},
   "outputs": [
    {
     "data": {
      "text/plain": [
       "array([  0.,   2.,   4.,   6.,   8.,  10.,  12.,  14.,  16.,  18.,  20.,\n",
       "        22.,  24.,  26.,  28.,  30.,  32.,  34.,  36.,  38.,  40.,  42.,\n",
       "        44.,  46.,  48.,  50.,  52.,  54.,  56.,  58.,  60.,  62.,  64.,\n",
       "        66.,  68.,  70.,  72.,  74.,  76.,  78.,  80.,  82.,  84.,  86.,\n",
       "        88.,  90.,  92.,  94.,  96.,  98., 100., 102., 104., 106., 108.,\n",
       "       110., 112., 114., 116., 118., 120., 122., 124., 126., 128., 130.,\n",
       "       132., 134., 136., 138., 140., 142., 144., 146., 148., 150., 152.,\n",
       "       154., 156., 158., 160., 162., 164., 166., 168., 170., 172., 174.,\n",
       "       176., 178., 180., 182., 184., 186., 188., 190., 192., 194., 196.,\n",
       "       198., 200., 202., 204., 206., 208., 210., 212., 214., 216., 218.,\n",
       "       220., 222., 224., 226., 228., 230., 232., 234., 236., 238., 240.,\n",
       "       242., 244., 246., 248., 250., 252., 254., 256., 258., 260., 262.,\n",
       "       264., 266., 268., 270., 272., 274., 276., 278., 280., 282., 284.,\n",
       "       286., 288., 290., 292., 294., 296., 298., 300., 302., 304., 306.,\n",
       "       308., 310., 312., 314., 316., 318., 320., 322., 324., 326., 328.,\n",
       "       330., 332., 334., 336., 338., 340., 342., 344., 346., 348., 350.,\n",
       "       352., 354., 356., 358., 360.])"
      ]
     },
     "execution_count": 114,
     "metadata": {},
     "output_type": "execute_result"
    }
   ],
   "source": [
    "np.linspace(0, 360, 30*6+1)"
   ]
  },
  {
   "cell_type": "code",
   "execution_count": 3,
   "id": "a5dec3da",
   "metadata": {},
   "outputs": [
    {
     "data": {
      "image/png": "[encoded data removed]",
      "text/plain": [
       "<Figure size 432x288 with 1 Axes>"
      ]
     },
     "metadata": {
      "needs_background": "light"
     },
     "output_type": "display_data"
    }
   ],
   "source": [
    "# fraction_of_pixels_plotted = 0.0009  # at 0.0005 leads to 1K pixels plotted\n",
    "\n",
    "# img = mpimg.imread(file_path)\n",
    "# img = img[:, :, 0]  # 2D image needed to sample pixels\n",
    "# indices = np.random.choice(img.size, size=int(np.floor(img.size*fraction_of_pixels_plotted)), replace=False)\n",
    "# row_indices, col_indices = np.unravel_index(indices, img.shape)\n",
    "\n",
    "# fig = plt.figure()\n",
    "# ax = fig.add_subplot(111)\n",
    "# ax.scatter(col_indices, row_indices)\n",
    "# ax.set_aspect('equal')\n",
    "# plt.show()"
   ]
  }
 ],
 "metadata": {
  "kernelspec": {
   "display_name": "Python 3 (ipykernel)",
   "language": "python",
   "name": "python3"
  },
  "language_info": {
   "codemirror_mode": {
    "name": "ipython",
    "version": 3
   },
   "file_extension": ".py",
   "mimetype": "text/x-python",
   "name": "python",
   "nbconvert_exporter": "python",
   "pygments_lexer": "ipython3",
   "version": "3.9.12"
  }
 },
 "nbformat": 4,
 "nbformat_minor": 5
}
